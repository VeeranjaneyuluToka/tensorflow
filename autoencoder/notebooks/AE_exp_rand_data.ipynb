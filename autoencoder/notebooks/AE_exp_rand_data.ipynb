{
 "cells": [
  {
   "cell_type": "code",
   "execution_count": 2,
   "metadata": {},
   "outputs": [
    {
     "name": "stdout",
     "output_type": "stream",
     "text": [
      "setGPU: Setting GPU to: 0\n"
     ]
    }
   ],
   "source": [
    "import setGPU\n",
    "\n",
    "from keras.datasets import mnist\n",
    "from keras.layers import Input, Dense, Convolution2D, MaxPooling2D, UpSampling2D\n",
    "from keras.models import Model\n",
    "from keras.callbacks import TensorBoard\n",
    "from keras.models import model_from_json\n",
    "\n",
    "import tensorflow as tf\n",
    "\n",
    "import numpy as np\n",
    "import matplotlib.pyplot as plt\n",
    "import cv2\n",
    "import sys\n",
    "import os\n",
    "from random import shuffle, randint, choice"
   ]
  },
  {
   "cell_type": "code",
   "execution_count": 3,
   "metadata": {},
   "outputs": [],
   "source": [
    "# Generates random image with squares and circles\n",
    "def getRandomImage():\n",
    "    imageSize = 100\n",
    "    size = 25\n",
    "    nbShapes = 5\n",
    "\n",
    "    xy = lambda: randint(0,100)\n",
    "\n",
    "    # Create a white image\n",
    "    img = np.zeros((imageSize,imageSize,3), np.uint8)\n",
    "    cv2.rectangle(img,(0,0),(imageSize,imageSize),(122,122,122) ,-1)\n",
    "\n",
    "    greyImg = np.copy(img)\n",
    "\n",
    "    # Adds some shapes\n",
    "    for i in range(nbShapes):\n",
    "        x0, y0 = xy(), xy()\n",
    "        isRect = choice((True,False))\n",
    "        if isRect:\n",
    "            cv2.rectangle(img,(x0,y0),(x0+size,y0+size),(255,0,0) ,-1)\n",
    "            cv2.rectangle(greyImg,(x0,y0),(x0+size,y0+size),(255,255,255) ,-1)\n",
    "        else:\n",
    "            cv2.circle(img,(x0,y0), int(size/2), (0,0,255), -1)\n",
    "            cv2.circle(greyImg,(x0,y0), int(size/2), (255,255,255), -1)\n",
    "\n",
    "    return cv2.resize(img,(48,48)), cv2.resize(greyImg,(48,48))"
   ]
  },
  {
   "cell_type": "code",
   "execution_count": 4,
   "metadata": {},
   "outputs": [],
   "source": [
    "# Creates the dataset\n",
    "def getDataset(display=False):\n",
    "    # Show what the dataset looks like\n",
    "    if display:\n",
    "        colorImg, greyImg = getRandomImage()\n",
    "        img = np.hstack((colorImg, greyImg))\n",
    "        res_img = cv2.resize(img, (200, 100))\n",
    "        plt.imshow(res_img)\n",
    "        plt.axis(\"off\")\n",
    "        plt.show()\n",
    "        cv2.destroyAllWindows()\n",
    "\n",
    "    #for i in range\n",
    "\n",
    "    x_train, x_test, y_train, y_test = [], [], [], []\n",
    "\n",
    "    # Add training examples\n",
    "    for i in range(10000):\n",
    "        colorImg, greyImg = getRandomImage()\n",
    "        greyImg = cv2.cvtColor(greyImg, cv2.COLOR_RGB2GRAY)\n",
    "        x_train.append(greyImg.astype('float32')/255.)\n",
    "        y_train.append(colorImg.astype('float32')/255.)\n",
    "\n",
    "    # Add test examples\n",
    "    for i in range(1000):\n",
    "        colorImg, greyImg = getRandomImage()\n",
    "        greyImg = cv2.cvtColor(greyImg, cv2.COLOR_RGB2GRAY)\n",
    "        x_test.append(greyImg.astype('float32')/255.)\n",
    "        y_test.append(colorImg.astype('float32')/255.)\n",
    "\n",
    "    # Reshape\n",
    "    x_train = np.array(x_train).reshape((-1,48,48,1))\n",
    "    x_test = np.array(x_test).reshape((-1,48,48,1))\n",
    "    y_train = np.array(y_train).reshape((-1,48,48,3))\n",
    "    y_test = np.array(y_test).reshape((-1,48,48,3))\n",
    "\n",
    "    return x_train, y_train, x_test, y_test"
   ]
  },
  {
   "cell_type": "code",
   "execution_count": 9,
   "metadata": {},
   "outputs": [],
   "source": [
    "# Creates the Convolutional Auto Encoder\n",
    "def getModel():\n",
    "    input_img = tf.keras.layers.Input(shape=(48, 48, 1))\n",
    "    x = tf.keras.layers.Convolution2D(16, 3, 3, activation='relu', border_mode='same', dim_ordering='tf')(input_img)\n",
    "    x = tf.keras.layers.MaxPooling2D((2, 2), border_mode='same', dim_ordering='tf')(x)\n",
    "    x = tf.keras.layers.Convolution2D(32, 3, 3, activation='relu', border_mode='same', dim_ordering='tf')(input_img)\n",
    "    x = tf.keras.layers.MaxPooling2D((2, 2), border_mode='same', dim_ordering='tf')(x)\n",
    "    x = tf.keras.layers.Convolution2D(64, 3, 3, activation='relu', border_mode='same', dim_ordering='tf')(x)\n",
    "    encoded = tf.keras.layers.MaxPooling2D((2, 2), border_mode='same', dim_ordering='tf')(x)\n",
    "    \n",
    "    #6x6x32 -- bottleneck\n",
    "    x = tf.keras.layers.UpSampling2D((2, 2), dim_ordering='tf')(encoded)\n",
    "    x = tf.keras.layers.Convolution2D(32, 3, 3, activation='relu', border_mode='same', dim_ordering='tf')(x)\n",
    "    x = tf.keras.layers.UpSampling2D((2, 2), dim_ordering='tf')(x)\n",
    "    x = tf.keras.layers.Convolution2D(16, 3, 3, activation='relu', border_mode='same', dim_ordering='tf')(x)\n",
    "    decoded = tf.keras.layers.Convolution2D(3, 3, 3, activation='relu', border_mode='same', dim_ordering='tf')(x)\n",
    "\n",
    "    #Create model\n",
    "    autoencoder = tf.keras.models.Model(input_img, decoded)\n",
    "    return autoencoder"
   ]
  },
  {
   "cell_type": "code",
   "execution_count": 6,
   "metadata": {},
   "outputs": [],
   "source": [
    "# Trains the model for 10 epochs\n",
    "def trainModel():\n",
    "    # Load dataset\n",
    "    print(\"Loading dataset...\")\n",
    "    x_train_gray, x_train, x_test_gray, x_test = getDataset()\n",
    "\n",
    "    # Create model description\n",
    "    print(\"Creating model...\")\n",
    "    model = getModel()\n",
    "    model.compile(optimizer='rmsprop', loss='binary_crossentropy',metrics=['accuracy'])\n",
    "\n",
    "    # Train model\n",
    "    print(\"Training model...\")\n",
    "    model.fit(x_train_gray, x_train, nb_epoch=10, batch_size=148, shuffle=True, validation_data=(x_test_gray, x_test), \n",
    "              callbacks=[TensorBoard(log_dir='/tmp/tb', histogram_freq=0, write_graph=False)])\n",
    "\n",
    "    # Evaluate loaded model on test data\n",
    "    print(\"Evaluating model...\")\n",
    "    score = model.evaluate(x_train_gray, x_train, verbose=0)\n",
    "    print(\"%s: %.2f%%\" % (model.metrics_names[1], score[1]*100))\n",
    "\n",
    "    # Serialize model to JSON\n",
    "    print(\"Saving model...\")\n",
    "    model_json = model.to_json()\n",
    "    with open(\"../../outputsmodel.json\", \"w\") as json_file:\n",
    "        json_file.write(model_json)\n",
    "\n",
    "    # Serialize weights to HDF5\n",
    "    print(\"Saving weights...\")\n",
    "    model.save_weights(\"../../outputs/model/model.h5\")"
   ]
  },
  {
   "cell_type": "code",
   "execution_count": 7,
   "metadata": {},
   "outputs": [],
   "source": [
    "# Tests the model and shows results\n",
    "def testModel():\n",
    "    # Load JSON model description\n",
    "    with open('model.json', 'r') as json_file:\n",
    "        modelJSON = json_file.read()\n",
    "\n",
    "    # Build model from JSON description\n",
    "    print(\"Loading model...\")\n",
    "    model = model_from_json(modelJSON)\n",
    "\n",
    "    # Load weights\n",
    "    print(\"Loading weights...\")\n",
    "    model.load_weights(\"model.h5\")\n",
    "\n",
    "    _, _, x_test_gray, x_test = getDataset()\n",
    "    x_test_gray = x_test_gray[:10]\n",
    "    x_test = x_test[:10]\n",
    "\n",
    "    print(\"Making predictions...\")\n",
    "    predictions = model.predict(x_test_gray)\n",
    "    x_test_gray = [cv2.cvtColor(img,cv2.COLOR_GRAY2RGB) for img in x_test_gray]\n",
    "\n",
    "    img = np.vstack((np.hstack(x_test_gray),np.hstack(predictions),np.hstack(x_test)))\n",
    "\n",
    "    res_img = cv2.resize(img, (img.shape[1], img.shape[0]))\n",
    "    plt.imshow(res_img)\n",
    "    plt.axis('off')\n",
    "    plt.show()"
   ]
  },
  {
   "cell_type": "code",
   "execution_count": 8,
   "metadata": {},
   "outputs": [
    {
     "data": {
      "image/png": "[encoded data removed]",
      "text/plain": [
       "<Figure size 432x288 with 1 Axes>"
      ]
     },
     "metadata": {
      "needs_background": "light"
     },
     "output_type": "display_data"
    },
    {
     "name": "stdout",
     "output_type": "stream",
     "text": [
      "Loading dataset...\n",
      "Creating model...\n",
      "WARNING:tensorflow:From /home/vuu/anaconda3/envs/tfpy3_exp/lib/python3.7/site-packages/keras/backend/tensorflow_backend.py:4070: The name tf.nn.max_pool is deprecated. Please use tf.nn.max_pool2d instead.\n",
      "\n"
     ]
    },
    {
     "name": "stderr",
     "output_type": "stream",
     "text": [
      "/home/vuu/anaconda3/envs/tfpy3_exp/lib/python3.7/site-packages/ipykernel_launcher.py:4: UserWarning: Update your `Conv2D` call to the Keras 2 API: `Conv2D(16, (3, 3), activation=\"relu\", padding=\"same\", data_format=\"channels_last\")`\n",
      "  after removing the cwd from sys.path.\n",
      "/home/vuu/anaconda3/envs/tfpy3_exp/lib/python3.7/site-packages/ipykernel_launcher.py:5: UserWarning: Update your `MaxPooling2D` call to the Keras 2 API: `MaxPooling2D((2, 2), padding=\"same\", data_format=\"channels_last\")`\n",
      "  \"\"\"\n",
      "/home/vuu/anaconda3/envs/tfpy3_exp/lib/python3.7/site-packages/ipykernel_launcher.py:6: UserWarning: Update your `Conv2D` call to the Keras 2 API: `Conv2D(32, (3, 3), activation=\"relu\", padding=\"same\", data_format=\"channels_last\")`\n",
      "  \n",
      "/home/vuu/anaconda3/envs/tfpy3_exp/lib/python3.7/site-packages/ipykernel_launcher.py:7: UserWarning: Update your `MaxPooling2D` call to the Keras 2 API: `MaxPooling2D((2, 2), padding=\"same\", data_format=\"channels_last\")`\n",
      "  import sys\n",
      "/home/vuu/anaconda3/envs/tfpy3_exp/lib/python3.7/site-packages/ipykernel_launcher.py:8: UserWarning: Update your `Conv2D` call to the Keras 2 API: `Conv2D(64, (3, 3), activation=\"relu\", padding=\"same\", data_format=\"channels_last\")`\n",
      "  \n",
      "/home/vuu/anaconda3/envs/tfpy3_exp/lib/python3.7/site-packages/ipykernel_launcher.py:9: UserWarning: Update your `MaxPooling2D` call to the Keras 2 API: `MaxPooling2D((2, 2), padding=\"same\", data_format=\"channels_last\")`\n",
      "  if __name__ == '__main__':\n",
      "/home/vuu/anaconda3/envs/tfpy3_exp/lib/python3.7/site-packages/ipykernel_launcher.py:11: UserWarning: Update your `UpSampling2D` call to the Keras 2 API: `UpSampling2D((2, 2), data_format=\"channels_last\")`\n",
      "  # This is added back by InteractiveShellApp.init_path()\n",
      "/home/vuu/anaconda3/envs/tfpy3_exp/lib/python3.7/site-packages/ipykernel_launcher.py:12: UserWarning: Update your `Conv2D` call to the Keras 2 API: `Conv2D(32, (3, 3), activation=\"relu\", padding=\"same\", data_format=\"channels_last\")`\n",
      "  if sys.path[0] == '':\n",
      "/home/vuu/anaconda3/envs/tfpy3_exp/lib/python3.7/site-packages/ipykernel_launcher.py:13: UserWarning: Update your `UpSampling2D` call to the Keras 2 API: `UpSampling2D((2, 2), data_format=\"channels_last\")`\n",
      "  del sys.path[0]\n",
      "/home/vuu/anaconda3/envs/tfpy3_exp/lib/python3.7/site-packages/ipykernel_launcher.py:14: UserWarning: Update your `Conv2D` call to the Keras 2 API: `Conv2D(16, (3, 3), activation=\"relu\", padding=\"same\", data_format=\"channels_last\")`\n",
      "  \n",
      "/home/vuu/anaconda3/envs/tfpy3_exp/lib/python3.7/site-packages/ipykernel_launcher.py:15: UserWarning: Update your `Conv2D` call to the Keras 2 API: `Conv2D(3, (3, 3), activation=\"relu\", padding=\"same\", data_format=\"channels_last\")`\n",
      "  from ipykernel import kernelapp as app\n"
     ]
    },
    {
     "name": "stdout",
     "output_type": "stream",
     "text": [
      "Training model...\n",
      "WARNING:tensorflow:From /home/vuu/anaconda3/envs/tfpy3_exp/lib/python3.7/site-packages/tensorflow/python/ops/math_grad.py:1250: add_dispatch_support.<locals>.wrapper (from tensorflow.python.ops.array_ops) is deprecated and will be removed in a future version.\n",
      "Instructions for updating:\n",
      "Use tf.where in 2.0, which has the same broadcast rule as np.where\n"
     ]
    },
    {
     "name": "stderr",
     "output_type": "stream",
     "text": [
      "/home/vuu/anaconda3/envs/tfpy3_exp/lib/python3.7/site-packages/ipykernel_launcher.py:15: UserWarning: The `nb_epoch` argument in `fit` has been renamed `epochs`.\n",
      "  from ipykernel import kernelapp as app\n"
     ]
    },
    {
     "name": "stdout",
     "output_type": "stream",
     "text": [
      "WARNING:tensorflow:From /home/vuu/anaconda3/envs/tfpy3_exp/lib/python3.7/site-packages/keras/backend/tensorflow_backend.py:422: The name tf.global_variables is deprecated. Please use tf.compat.v1.global_variables instead.\n",
      "\n",
      "Train on 10000 samples, validate on 1000 samples\n",
      "WARNING:tensorflow:From /home/vuu/anaconda3/envs/tfpy3_exp/lib/python3.7/site-packages/keras/callbacks/tensorboard_v1.py:200: The name tf.summary.merge_all is deprecated. Please use tf.compat.v1.summary.merge_all instead.\n",
      "\n",
      "WARNING:tensorflow:From /home/vuu/anaconda3/envs/tfpy3_exp/lib/python3.7/site-packages/keras/callbacks/tensorboard_v1.py:206: The name tf.summary.FileWriter is deprecated. Please use tf.compat.v1.summary.FileWriter instead.\n",
      "\n",
      "Epoch 1/10\n",
      "10000/10000 [==============================] - 4s 374us/step - loss: 0.8223 - accuracy: 0.1068 - val_loss: 0.6841 - val_accuracy: 0.1311\n",
      "WARNING:tensorflow:From /home/vuu/anaconda3/envs/tfpy3_exp/lib/python3.7/site-packages/keras/callbacks/tensorboard_v1.py:343: The name tf.Summary is deprecated. Please use tf.compat.v1.Summary instead.\n",
      "\n",
      "Epoch 2/10\n",
      "10000/10000 [==============================] - 1s 116us/step - loss: 0.6807 - accuracy: 0.1275 - val_loss: 0.6618 - val_accuracy: 0.1360\n",
      "Epoch 3/10\n",
      "10000/10000 [==============================] - 1s 103us/step - loss: 0.6529 - accuracy: 0.1461 - val_loss: 0.6528 - val_accuracy: 0.1402\n",
      "Epoch 4/10\n",
      "10000/10000 [==============================] - 1s 98us/step - loss: 0.6288 - accuracy: 0.1627 - val_loss: 0.6086 - val_accuracy: 0.1763\n",
      "Epoch 5/10\n",
      "10000/10000 [==============================] - 1s 104us/step - loss: 0.6188 - accuracy: 0.1710 - val_loss: 0.5958 - val_accuracy: 0.1788\n",
      "Epoch 6/10\n",
      "10000/10000 [==============================] - 1s 103us/step - loss: 0.6062 - accuracy: 0.1735 - val_loss: 0.5889 - val_accuracy: 0.1804\n",
      "Epoch 7/10\n",
      "10000/10000 [==============================] - 1s 109us/step - loss: 0.6010 - accuracy: 0.1760 - val_loss: 0.5909 - val_accuracy: 0.1801\n",
      "Epoch 8/10\n",
      "10000/10000 [==============================] - 1s 111us/step - loss: 0.5944 - accuracy: 0.1778 - val_loss: 0.5951 - val_accuracy: 0.1747\n",
      "Epoch 9/10\n",
      "10000/10000 [==============================] - 1s 111us/step - loss: 0.5918 - accuracy: 0.1782 - val_loss: 0.5845 - val_accuracy: 0.1811\n",
      "Epoch 10/10\n",
      "10000/10000 [==============================] - 1s 111us/step - loss: 0.5888 - accuracy: 0.1790 - val_loss: 0.5838 - val_accuracy: 0.1806\n",
      "Evaluating model...\n",
      "accuracy: 18.03%\n",
      "Saving model...\n",
      "Saving weights...\n",
      "Loading model...\n",
      "Loading weights...\n"
     ]
    },
    {
     "name": "stderr",
     "output_type": "stream",
     "text": [
      "Clipping input data to the valid range for imshow with RGB data ([0..1] for floats or [0..255] for integers).\n"
     ]
    },
    {
     "name": "stdout",
     "output_type": "stream",
     "text": [
      "Making predictions...\n"
     ]
    },
    {
     "data": {
      "image/png": "[encoded data removed]",
      "text/plain": [
       "<Figure size 432x288 with 1 Axes>"
      ]
     },
     "metadata": {
      "needs_background": "light"
     },
     "output_type": "display_data"
    }
   ],
   "source": [
    "if __name__ == \"__main__\":\n",
    "    getDataset(True)\n",
    "    trainModel()\n",
    "    testModel()"
   ]
  }
 ],
 "metadata": {
  "kernelspec": {
   "display_name": "Python 3",
   "language": "python",
   "name": "python3"
  },
  "language_info": {
   "codemirror_mode": {
    "name": "ipython",
    "version": 3
   },
   "file_extension": ".py",
   "mimetype": "text/x-python",
   "name": "python",
   "nbconvert_exporter": "python",
   "pygments_lexer": "ipython3",
   "version": "3.7.3"
  }
 },
 "nbformat": 4,
 "nbformat_minor": 4
}
