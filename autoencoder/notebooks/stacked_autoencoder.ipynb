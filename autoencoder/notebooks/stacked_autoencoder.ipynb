{
 "cells": [
  {
   "cell_type": "code",
   "execution_count": 1,
   "metadata": {},
   "outputs": [
    {
     "name": "stdout",
     "output_type": "stream",
     "text": [
      "setGPU: Setting GPU to: 1\n"
     ]
    },
    {
     "name": "stderr",
     "output_type": "stream",
     "text": [
      "/home/vuu/anaconda3/envs/tfpy3_exp/lib/python3.7/site-packages/tensorflow/python/framework/dtypes.py:516: FutureWarning: Passing (type, 1) or '1type' as a synonym of type is deprecated; in a future version of numpy, it will be understood as (type, (1,)) / '(1,)type'.\n",
      "  _np_qint8 = np.dtype([(\"qint8\", np.int8, 1)])\n",
      "/home/vuu/anaconda3/envs/tfpy3_exp/lib/python3.7/site-packages/tensorflow/python/framework/dtypes.py:517: FutureWarning: Passing (type, 1) or '1type' as a synonym of type is deprecated; in a future version of numpy, it will be understood as (type, (1,)) / '(1,)type'.\n",
      "  _np_quint8 = np.dtype([(\"quint8\", np.uint8, 1)])\n",
      "/home/vuu/anaconda3/envs/tfpy3_exp/lib/python3.7/site-packages/tensorflow/python/framework/dtypes.py:518: FutureWarning: Passing (type, 1) or '1type' as a synonym of type is deprecated; in a future version of numpy, it will be understood as (type, (1,)) / '(1,)type'.\n",
      "  _np_qint16 = np.dtype([(\"qint16\", np.int16, 1)])\n",
      "/home/vuu/anaconda3/envs/tfpy3_exp/lib/python3.7/site-packages/tensorflow/python/framework/dtypes.py:519: FutureWarning: Passing (type, 1) or '1type' as a synonym of type is deprecated; in a future version of numpy, it will be understood as (type, (1,)) / '(1,)type'.\n",
      "  _np_quint16 = np.dtype([(\"quint16\", np.uint16, 1)])\n",
      "/home/vuu/anaconda3/envs/tfpy3_exp/lib/python3.7/site-packages/tensorflow/python/framework/dtypes.py:520: FutureWarning: Passing (type, 1) or '1type' as a synonym of type is deprecated; in a future version of numpy, it will be understood as (type, (1,)) / '(1,)type'.\n",
      "  _np_qint32 = np.dtype([(\"qint32\", np.int32, 1)])\n",
      "/home/vuu/anaconda3/envs/tfpy3_exp/lib/python3.7/site-packages/tensorflow/python/framework/dtypes.py:525: FutureWarning: Passing (type, 1) or '1type' as a synonym of type is deprecated; in a future version of numpy, it will be understood as (type, (1,)) / '(1,)type'.\n",
      "  np_resource = np.dtype([(\"resource\", np.ubyte, 1)])\n",
      "/home/vuu/anaconda3/envs/tfpy3_exp/lib/python3.7/site-packages/tensorboard/compat/tensorflow_stub/dtypes.py:541: FutureWarning: Passing (type, 1) or '1type' as a synonym of type is deprecated; in a future version of numpy, it will be understood as (type, (1,)) / '(1,)type'.\n",
      "  _np_qint8 = np.dtype([(\"qint8\", np.int8, 1)])\n",
      "/home/vuu/anaconda3/envs/tfpy3_exp/lib/python3.7/site-packages/tensorboard/compat/tensorflow_stub/dtypes.py:542: FutureWarning: Passing (type, 1) or '1type' as a synonym of type is deprecated; in a future version of numpy, it will be understood as (type, (1,)) / '(1,)type'.\n",
      "  _np_quint8 = np.dtype([(\"quint8\", np.uint8, 1)])\n",
      "/home/vuu/anaconda3/envs/tfpy3_exp/lib/python3.7/site-packages/tensorboard/compat/tensorflow_stub/dtypes.py:543: FutureWarning: Passing (type, 1) or '1type' as a synonym of type is deprecated; in a future version of numpy, it will be understood as (type, (1,)) / '(1,)type'.\n",
      "  _np_qint16 = np.dtype([(\"qint16\", np.int16, 1)])\n",
      "/home/vuu/anaconda3/envs/tfpy3_exp/lib/python3.7/site-packages/tensorboard/compat/tensorflow_stub/dtypes.py:544: FutureWarning: Passing (type, 1) or '1type' as a synonym of type is deprecated; in a future version of numpy, it will be understood as (type, (1,)) / '(1,)type'.\n",
      "  _np_quint16 = np.dtype([(\"quint16\", np.uint16, 1)])\n",
      "/home/vuu/anaconda3/envs/tfpy3_exp/lib/python3.7/site-packages/tensorboard/compat/tensorflow_stub/dtypes.py:545: FutureWarning: Passing (type, 1) or '1type' as a synonym of type is deprecated; in a future version of numpy, it will be understood as (type, (1,)) / '(1,)type'.\n",
      "  _np_qint32 = np.dtype([(\"qint32\", np.int32, 1)])\n",
      "/home/vuu/anaconda3/envs/tfpy3_exp/lib/python3.7/site-packages/tensorboard/compat/tensorflow_stub/dtypes.py:550: FutureWarning: Passing (type, 1) or '1type' as a synonym of type is deprecated; in a future version of numpy, it will be understood as (type, (1,)) / '(1,)type'.\n",
      "  np_resource = np.dtype([(\"resource\", np.ubyte, 1)])\n"
     ]
    }
   ],
   "source": [
    "import setGPU\n",
    "\n",
    "import tensorflow as tf\n",
    "\n",
    "import sys\n",
    "\n",
    "sys.path.append('../scripts')\n",
    "\n",
    "from data_reading import *\n",
    "from autoencoder_architectures import *"
   ]
  },
  {
   "cell_type": "code",
   "execution_count": 2,
   "metadata": {},
   "outputs": [
    {
     "name": "stdout",
     "output_type": "stream",
     "text": [
      "(60000, 28, 28) (60000,) (10000, 28, 28) (10000,)\n",
      "(55000, 28, 28) (55000,) (5000, 28, 28) (5000,)\n"
     ]
    }
   ],
   "source": [
    "data = public_datasets(False)\n",
    "x_train_full, y_train_full, x_test, y_test = data.load_fashion_mnist()\n",
    "print(x_train_full.shape, y_train_full.shape, x_test.shape, y_test.shape)\n",
    "\n",
    "x_train = x_train_full[:-5000]\n",
    "x_valid = x_train_full[-5000:]\n",
    "\n",
    "y_train = y_train_full[:-5000]\n",
    "y_valid = y_train_full[-5000:]\n",
    "\n",
    "print(x_train.shape, y_train.shape, x_valid.shape, y_valid.shape)"
   ]
  },
  {
   "cell_type": "code",
   "execution_count": 3,
   "metadata": {},
   "outputs": [],
   "source": [
    "def rounded_accuracy(y_true, y_pred):\n",
    "    return tf.keras.metrics.binary_accuracy(tf.round(y_true), tf.round(y_pred))"
   ]
  },
  {
   "cell_type": "code",
   "execution_count": 4,
   "metadata": {},
   "outputs": [
    {
     "name": "stdout",
     "output_type": "stream",
     "text": [
      "WARNING:tensorflow:From /home/vuu/anaconda3/envs/tfpy3_exp/lib/python3.7/site-packages/tensorflow/python/ops/init_ops.py:1251: calling VarianceScaling.__init__ (from tensorflow.python.ops.init_ops) with dtype is deprecated and will be removed in a future version.\n",
      "Instructions for updating:\n",
      "Call initializer instance with the dtype argument instead of passing it to the constructor\n",
      "WARNING:tensorflow:From /home/vuu/anaconda3/envs/tfpy3_exp/lib/python3.7/site-packages/tensorflow/python/keras/backend.py:4075: add_dispatch_support.<locals>.wrapper (from tensorflow.python.ops.array_ops) is deprecated and will be removed in a future version.\n",
      "Instructions for updating:\n",
      "Use tf.where in 2.0, which has the same broadcast rule as np.where\n",
      "Train on 55000 samples, validate on 5000 samples\n",
      "Epoch 1/20\n",
      "55000/55000 - 9s - loss: 0.3351 - rounded_accuracy: 0.8901 - val_loss: 0.3103 - val_rounded_accuracy: 0.9145\n",
      "Epoch 2/20\n",
      "55000/55000 - 8s - loss: 0.3043 - rounded_accuracy: 0.9166 - val_loss: 0.3012 - val_rounded_accuracy: 0.9226\n",
      "Epoch 3/20\n",
      "55000/55000 - 8s - loss: 0.2975 - rounded_accuracy: 0.9226 - val_loss: 0.2973 - val_rounded_accuracy: 0.9262\n",
      "Epoch 4/20\n",
      "55000/55000 - 8s - loss: 0.2930 - rounded_accuracy: 0.9269 - val_loss: 0.2922 - val_rounded_accuracy: 0.9289\n",
      "Epoch 5/20\n",
      "55000/55000 - 8s - loss: 0.2903 - rounded_accuracy: 0.9291 - val_loss: 0.2914 - val_rounded_accuracy: 0.9311\n",
      "Epoch 6/20\n",
      "55000/55000 - 8s - loss: 0.2885 - rounded_accuracy: 0.9308 - val_loss: 0.2900 - val_rounded_accuracy: 0.9317\n",
      "Epoch 7/20\n",
      "55000/55000 - 8s - loss: 0.2870 - rounded_accuracy: 0.9321 - val_loss: 0.2886 - val_rounded_accuracy: 0.9307\n",
      "Epoch 8/20\n",
      "55000/55000 - 8s - loss: 0.2858 - rounded_accuracy: 0.9331 - val_loss: 0.2865 - val_rounded_accuracy: 0.9340\n",
      "Epoch 9/20\n",
      "55000/55000 - 8s - loss: 0.2848 - rounded_accuracy: 0.9340 - val_loss: 0.2861 - val_rounded_accuracy: 0.9323\n",
      "Epoch 10/20\n",
      "55000/55000 - 8s - loss: 0.2840 - rounded_accuracy: 0.9348 - val_loss: 0.2844 - val_rounded_accuracy: 0.9366\n",
      "Epoch 11/20\n",
      "55000/55000 - 8s - loss: 0.2832 - rounded_accuracy: 0.9355 - val_loss: 0.2849 - val_rounded_accuracy: 0.9357\n",
      "Epoch 12/20\n",
      "55000/55000 - 8s - loss: 0.2825 - rounded_accuracy: 0.9361 - val_loss: 0.2840 - val_rounded_accuracy: 0.9372\n",
      "Epoch 13/20\n",
      "55000/55000 - 8s - loss: 0.2818 - rounded_accuracy: 0.9367 - val_loss: 0.2828 - val_rounded_accuracy: 0.9367\n",
      "Epoch 14/20\n",
      "55000/55000 - 8s - loss: 0.2813 - rounded_accuracy: 0.9371 - val_loss: 0.2822 - val_rounded_accuracy: 0.9375\n",
      "Epoch 15/20\n",
      "55000/55000 - 8s - loss: 0.2808 - rounded_accuracy: 0.9375 - val_loss: 0.2826 - val_rounded_accuracy: 0.9355\n",
      "Epoch 16/20\n",
      "55000/55000 - 8s - loss: 0.2805 - rounded_accuracy: 0.9378 - val_loss: 0.2843 - val_rounded_accuracy: 0.9369\n",
      "Epoch 17/20\n",
      "55000/55000 - 8s - loss: 0.2801 - rounded_accuracy: 0.9381 - val_loss: 0.2820 - val_rounded_accuracy: 0.9372\n",
      "Epoch 18/20\n",
      "55000/55000 - 8s - loss: 0.2798 - rounded_accuracy: 0.9383 - val_loss: 0.2813 - val_rounded_accuracy: 0.9369\n",
      "Epoch 19/20\n",
      "55000/55000 - 8s - loss: 0.2794 - rounded_accuracy: 0.9387 - val_loss: 0.2823 - val_rounded_accuracy: 0.9387\n",
      "Epoch 20/20\n",
      "55000/55000 - 8s - loss: 0.2791 - rounded_accuracy: 0.9389 - val_loss: 0.2808 - val_rounded_accuracy: 0.9396\n"
     ]
    }
   ],
   "source": [
    "np.random.seed(42)\n",
    "\n",
    "stacked_encoder = tf.keras.models.Sequential([\n",
    "    tf.keras.layers.Flatten(input_shape=[28, 28]),\n",
    "    tf.keras.layers.Dense(100, activation=\"selu\"),\n",
    "    tf.keras.layers.Dense(30, activation=\"selu\"),\n",
    "])\n",
    "stacked_decoder = tf.keras.models.Sequential([\n",
    "    tf.keras.layers.Dense(100, activation=\"selu\", input_shape=[30]),\n",
    "    tf.keras.layers.Dense(28 * 28, activation=\"sigmoid\"),\n",
    "    tf.keras.layers.Reshape([28, 28])\n",
    "])\n",
    "stacked_ae = tf.keras.models.Sequential([stacked_encoder, stacked_decoder])\n",
    "\n",
    "stacked_ae.compile(loss=\"binary_crossentropy\", optimizer=tf.keras.optimizers.SGD(lr=1.5), metrics=[rounded_accuracy])\n",
    "\n",
    "history = stacked_ae.fit(x_train, x_train, epochs=20, validation_data=(x_valid, x_valid), verbose=2)"
   ]
  }
 ],
 "metadata": {
  "kernelspec": {
   "display_name": "Python 3",
   "language": "python",
   "name": "python3"
  },
  "language_info": {
   "codemirror_mode": {
    "name": "ipython",
    "version": 3
   },
   "file_extension": ".py",
   "mimetype": "text/x-python",
   "name": "python",
   "nbconvert_exporter": "python",
   "pygments_lexer": "ipython3",
   "version": "3.7.3"
  }
 },
 "nbformat": 4,
 "nbformat_minor": 4
}
