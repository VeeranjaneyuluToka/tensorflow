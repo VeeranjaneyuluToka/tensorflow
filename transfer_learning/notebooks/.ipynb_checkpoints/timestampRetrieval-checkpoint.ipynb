{
 "cells": [
  {
   "cell_type": "code",
   "execution_count": 1,
   "metadata": {},
   "outputs": [
    {
     "name": "stdout",
     "output_type": "stream",
     "text": [
      "setGPU: Setting GPU to: 0\n"
     ]
    },
    {
     "name": "stderr",
     "output_type": "stream",
     "text": [
      "/home/vuu/anaconda3/envs/tfpy3_exp/lib/python3.7/site-packages/tensorflow/python/framework/dtypes.py:526: FutureWarning: Passing (type, 1) or '1type' as a synonym of type is deprecated; in a future version of numpy, it will be understood as (type, (1,)) / '(1,)type'.\n",
      "  _np_qint8 = np.dtype([(\"qint8\", np.int8, 1)])\n",
      "/home/vuu/anaconda3/envs/tfpy3_exp/lib/python3.7/site-packages/tensorflow/python/framework/dtypes.py:527: FutureWarning: Passing (type, 1) or '1type' as a synonym of type is deprecated; in a future version of numpy, it will be understood as (type, (1,)) / '(1,)type'.\n",
      "  _np_quint8 = np.dtype([(\"quint8\", np.uint8, 1)])\n",
      "/home/vuu/anaconda3/envs/tfpy3_exp/lib/python3.7/site-packages/tensorflow/python/framework/dtypes.py:528: FutureWarning: Passing (type, 1) or '1type' as a synonym of type is deprecated; in a future version of numpy, it will be understood as (type, (1,)) / '(1,)type'.\n",
      "  _np_qint16 = np.dtype([(\"qint16\", np.int16, 1)])\n",
      "/home/vuu/anaconda3/envs/tfpy3_exp/lib/python3.7/site-packages/tensorflow/python/framework/dtypes.py:529: FutureWarning: Passing (type, 1) or '1type' as a synonym of type is deprecated; in a future version of numpy, it will be understood as (type, (1,)) / '(1,)type'.\n",
      "  _np_quint16 = np.dtype([(\"quint16\", np.uint16, 1)])\n",
      "/home/vuu/anaconda3/envs/tfpy3_exp/lib/python3.7/site-packages/tensorflow/python/framework/dtypes.py:530: FutureWarning: Passing (type, 1) or '1type' as a synonym of type is deprecated; in a future version of numpy, it will be understood as (type, (1,)) / '(1,)type'.\n",
      "  _np_qint32 = np.dtype([(\"qint32\", np.int32, 1)])\n",
      "/home/vuu/anaconda3/envs/tfpy3_exp/lib/python3.7/site-packages/tensorflow/python/framework/dtypes.py:535: FutureWarning: Passing (type, 1) or '1type' as a synonym of type is deprecated; in a future version of numpy, it will be understood as (type, (1,)) / '(1,)type'.\n",
      "  np_resource = np.dtype([(\"resource\", np.ubyte, 1)])\n"
     ]
    }
   ],
   "source": [
    "import os, json\n",
    "import sys\n",
    "import numpy as np\n",
    "\n",
    "sys.path.append('..')\n",
    "\n",
    "from extractEmbeddings import featureExtractor\n",
    "from utils import datasetUtils\n",
    "from extractEmbeddings import fvsOperations"
   ]
  },
  {
   "cell_type": "code",
   "execution_count": 2,
   "metadata": {},
   "outputs": [
    {
     "name": "stdout",
     "output_type": "stream",
     "text": [
      "WARNING:tensorflow:From /home/vuu/anaconda3/envs/tfpy3_exp/lib/python3.7/site-packages/tensorflow/python/ops/init_ops.py:96: calling VarianceScaling.__init__ (from tensorflow.python.ops.init_ops) with distribution=normal is deprecated and will be removed in a future version.\n",
      "Instructions for updating:\n",
      "`normal` is a deprecated alias for `truncated_normal`\n",
      "WARNING:tensorflow:From /home/vuu/anaconda3/envs/tfpy3_exp/lib/python3.7/site-packages/tensorflow/python/ops/resource_variable_ops.py:435: colocate_with (from tensorflow.python.framework.ops) is deprecated and will be removed in a future version.\n",
      "Instructions for updating:\n",
      "Colocations handled automatically by placer.\n",
      "WARNING:tensorflow:From /home/vuu/anaconda3/envs/tfpy3_exp/lib/python3.7/site-packages/tensorflow/python/keras/layers/core.py:143: calling dropout (from tensorflow.python.ops.nn_ops) with keep_prob is deprecated and will be removed in a future version.\n",
      "Instructions for updating:\n",
      "Please use `rate` instead of `keep_prob`. Rate should be set to `rate = 1 - keep_prob`.\n"
     ]
    }
   ],
   "source": [
    "featExt = featureExtractor(1000, \"ENB7\")\n",
    "model = featExt.pretrainedModel()"
   ]
  },
  {
   "cell_type": "code",
   "execution_count": 3,
   "metadata": {},
   "outputs": [],
   "source": [
    "dataUtils = datasetUtils()\n",
    "fvsOps = fvsOperations()"
   ]
  },
  {
   "cell_type": "code",
   "execution_count": 4,
   "metadata": {},
   "outputs": [],
   "source": [
    "def testFramesFvs(path, isSignedMagSep, isOriginal):\n",
    "    testFvs, testFileNames = featExt.extractFeaturesTitle(testCasePath, model) #extract features from test case folder\n",
    "    if isOriginal:\n",
    "        return testFvs\n",
    "    arrTestFvs = np.asarray(testFvs).squeeze() #convert list to nd.array    \n",
    "    if isSignedMagSep == True:\n",
    "        arrTestFvsCombined = np.apply_along_axis(fvsOps.signedmag, 0, arrTestFvs) #combined feature vectors\n",
    "    else:\n",
    "        arrTestFvsCombined = np.linalg.norm(arrTestFvs, axis=0)\n",
    "        \n",
    "    return arrTestFvsCombined"
   ]
  },
  {
   "cell_type": "code",
   "execution_count": 5,
   "metadata": {},
   "outputs": [],
   "source": [
    "def parseTestCases(path):\n",
    "    jsonFilePath = os.path.join(testCasePath, 'retrievaldata.json')\n",
    "    if not os.path.exists(jsonFilePath):\n",
    "        print(\"file does not exist\")\n",
    "    with open(jsonFilePath) as jfile:\n",
    "        data = json.load(jfile)\n",
    "    res = data['response']['Results']\n",
    "    title = res[0].split('_')[0]\n",
    "    ind = res[0].split('_')[-1]\n",
    "    \n",
    "    return title, ind"
   ]
  },
  {
   "cell_type": "code",
   "execution_count": 7,
   "metadata": {},
   "outputs": [
    {
     "ename": "SyntaxError",
     "evalue": "unexpected EOF while parsing (<ipython-input-7-9eac8950b023>, line 17)",
     "output_type": "error",
     "traceback": [
      "\u001b[0;36m  File \u001b[0;32m\"<ipython-input-7-9eac8950b023>\"\u001b[0;36m, line \u001b[0;32m17\u001b[0m\n\u001b[0;31m    print(\"title:{}, distance:{}, predicted index:{}, actual index:{}\".format(titleName, dist, ind, aInd)\u001b[0m\n\u001b[0m                                                                                                         ^\u001b[0m\n\u001b[0;31mSyntaxError\u001b[0m\u001b[0;31m:\u001b[0m unexpected EOF while parsing\n"
     ]
    }
   ],
   "source": [
    "testCasesDataPath = '../../../data/movie_titles/testUncompressed/'\n",
    "titlesPath = '../../../data/movie_titles/all_titles_uncompressed/'\n",
    "isSignedMagSep = True\n",
    "isOriginal = False\n",
    "\n",
    "for testCase in os.listdir(testCasesDataPath):\n",
    "    testCasePath = os.path.join(testCasesDataPath, testCase)\n",
    "    arrTestFvs = testFramesFvs(testCasePath, isSignedMagSep, isOriginal)\n",
    "    \n",
    "    titleName, aInd = parseTestCases(testCasePath)\n",
    "    titlePath = os.path.join(titlesPath, titleName)\n",
    "    matFile = titleName+'AggregateENB7.mat'\n",
    "    matFilePath = os.path.join(titlePath, matFile)\n",
    "    arrFvsDB = dataUtils.loadAggMatFile(matFilePath)\n",
    "    \n",
    "    dist, ind = fvsOps.compareCombinedFvsFromFile(arrTestFvs, arrFvsDB)\n",
    "    print(\"title:{}, distance:{}, predicted index:{}, actual index:{}\".format(titleName, dist, ind, aInd))"
   ]
  }
 ],
 "metadata": {
  "kernelspec": {
   "display_name": "Python 3",
   "language": "python",
   "name": "python3"
  },
  "language_info": {
   "codemirror_mode": {
    "name": "ipython",
    "version": 3
   },
   "file_extension": ".py",
   "mimetype": "text/x-python",
   "name": "python",
   "nbconvert_exporter": "python",
   "pygments_lexer": "ipython3",
   "version": "3.7.3"
  }
 },
 "nbformat": 4,
 "nbformat_minor": 4
}
