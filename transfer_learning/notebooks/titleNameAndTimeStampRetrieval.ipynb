{
 "cells": [
  {
   "cell_type": "code",
   "execution_count": 1,
   "metadata": {},
   "outputs": [
    {
     "name": "stdout",
     "output_type": "stream",
     "text": [
      "setGPU: Setting GPU to: 1\n"
     ]
    },
    {
     "name": "stderr",
     "output_type": "stream",
     "text": [
      "/home/vuu/anaconda3/envs/tfpy3_exp/lib/python3.7/site-packages/tensorflow/python/framework/dtypes.py:526: FutureWarning: Passing (type, 1) or '1type' as a synonym of type is deprecated; in a future version of numpy, it will be understood as (type, (1,)) / '(1,)type'.\n",
      "  _np_qint8 = np.dtype([(\"qint8\", np.int8, 1)])\n",
      "/home/vuu/anaconda3/envs/tfpy3_exp/lib/python3.7/site-packages/tensorflow/python/framework/dtypes.py:527: FutureWarning: Passing (type, 1) or '1type' as a synonym of type is deprecated; in a future version of numpy, it will be understood as (type, (1,)) / '(1,)type'.\n",
      "  _np_quint8 = np.dtype([(\"quint8\", np.uint8, 1)])\n",
      "/home/vuu/anaconda3/envs/tfpy3_exp/lib/python3.7/site-packages/tensorflow/python/framework/dtypes.py:528: FutureWarning: Passing (type, 1) or '1type' as a synonym of type is deprecated; in a future version of numpy, it will be understood as (type, (1,)) / '(1,)type'.\n",
      "  _np_qint16 = np.dtype([(\"qint16\", np.int16, 1)])\n",
      "/home/vuu/anaconda3/envs/tfpy3_exp/lib/python3.7/site-packages/tensorflow/python/framework/dtypes.py:529: FutureWarning: Passing (type, 1) or '1type' as a synonym of type is deprecated; in a future version of numpy, it will be understood as (type, (1,)) / '(1,)type'.\n",
      "  _np_quint16 = np.dtype([(\"quint16\", np.uint16, 1)])\n",
      "/home/vuu/anaconda3/envs/tfpy3_exp/lib/python3.7/site-packages/tensorflow/python/framework/dtypes.py:530: FutureWarning: Passing (type, 1) or '1type' as a synonym of type is deprecated; in a future version of numpy, it will be understood as (type, (1,)) / '(1,)type'.\n",
      "  _np_qint32 = np.dtype([(\"qint32\", np.int32, 1)])\n",
      "/home/vuu/anaconda3/envs/tfpy3_exp/lib/python3.7/site-packages/tensorflow/python/framework/dtypes.py:535: FutureWarning: Passing (type, 1) or '1type' as a synonym of type is deprecated; in a future version of numpy, it will be understood as (type, (1,)) / '(1,)type'.\n",
      "  np_resource = np.dtype([(\"resource\", np.ubyte, 1)])\n"
     ]
    }
   ],
   "source": [
    "import setGPU\n",
    "\n",
    "import os, sys\n",
    "import scipy.io as sio\n",
    "import matplotlib.pyplot as plt\n",
    "import cv2 as cv\n",
    "import numpy as np\n",
    "import json\n",
    "import multiprocessing.pool\n",
    "\n",
    "sys.path.append('..')\n",
    "\n",
    "from extractEmbeddings import featureExtractor\n",
    "from utils import datasetUtils\n",
    "from extractEmbeddings import fvsOperations"
   ]
  },
  {
   "cell_type": "code",
   "execution_count": 2,
   "metadata": {},
   "outputs": [],
   "source": [
    "testDataPath = '../../../data/movie_titles/testUncompressed/' #test cases data path\n",
    "titlesPath = '../../../data/movie_titles/all_titles_uncompressed/' # all movie titles path"
   ]
  },
  {
   "cell_type": "code",
   "execution_count": 3,
   "metadata": {},
   "outputs": [],
   "source": [
    "dataUtils = datasetUtils()\n",
    "fvsOps = fvsOperations()"
   ]
  },
  {
   "cell_type": "code",
   "execution_count": 4,
   "metadata": {},
   "outputs": [
    {
     "name": "stdout",
     "output_type": "stream",
     "text": [
      "WARNING:tensorflow:From /home/vuu/anaconda3/envs/tfpy3_exp/lib/python3.7/site-packages/tensorflow/python/ops/init_ops.py:96: calling VarianceScaling.__init__ (from tensorflow.python.ops.init_ops) with distribution=normal is deprecated and will be removed in a future version.\n",
      "Instructions for updating:\n",
      "`normal` is a deprecated alias for `truncated_normal`\n",
      "WARNING:tensorflow:From /home/vuu/anaconda3/envs/tfpy3_exp/lib/python3.7/site-packages/tensorflow/python/ops/resource_variable_ops.py:435: colocate_with (from tensorflow.python.framework.ops) is deprecated and will be removed in a future version.\n",
      "Instructions for updating:\n",
      "Colocations handled automatically by placer.\n",
      "WARNING:tensorflow:From /home/vuu/anaconda3/envs/tfpy3_exp/lib/python3.7/site-packages/tensorflow/python/keras/layers/core.py:143: calling dropout (from tensorflow.python.ops.nn_ops) with keep_prob is deprecated and will be removed in a future version.\n",
      "Instructions for updating:\n",
      "Please use `rate` instead of `keep_prob`. Rate should be set to `rate = 1 - keep_prob`.\n"
     ]
    }
   ],
   "source": [
    "\"\"\"\n",
    "Use pre-trained models\n",
    "\"\"\"\n",
    "featExt = featureExtractor(1000, \"ENB7\")\n",
    "model = featExt.pretrainedModel()"
   ]
  },
  {
   "cell_type": "code",
   "execution_count": 7,
   "metadata": {},
   "outputs": [],
   "source": [
    "def testAggFvsStore():\n",
    "    for title in os.listdir(titlesPath):\n",
    "        titlePath = os.path.join(titlesPath, title)\n",
    "        #print(titlePath)\n",
    "        matFile = title+'ENB5.mat'\n",
    "        matFilePath = os.path.join(titlePath, matFile)\n",
    "        dMatFile = title+'AggregateENB5'+'.mat'\n",
    "        dstMatFile = os.path.join(titlePath, dMatFile)\n",
    "        fvsOps.aggregateFvsStore(matFilePath, dstMatFile)"
   ]
  },
  {
   "cell_type": "code",
   "execution_count": null,
   "metadata": {},
   "outputs": [],
   "source": [
    "testAggFvsStore()"
   ]
  },
  {
   "cell_type": "code",
   "execution_count": 6,
   "metadata": {},
   "outputs": [],
   "source": [
    "\"\"\"\n",
    "test the load aggregate function\n",
    "\"\"\"\n",
    "def testLoadAggMatFile():\n",
    "    for title in os.listdir(titlesPath):\n",
    "        titlePath = os.path.join(titlesPath, title)\n",
    "        matFilePath = titlePath+'/'+title+'AggregateENB7.mat' #166AggregateENB7.mat\n",
    "        if not os.path.exists(matFilePath):\n",
    "            print(matFilePath)\n",
    "        featureVs = dataUtils.loadAggMatFile(matFilePath)"
   ]
  },
  {
   "cell_type": "code",
   "execution_count": 7,
   "metadata": {},
   "outputs": [],
   "source": [
    "def displayTestAndMatchTitleFrames(testCaseFileNames, fileNames, titleCurrInd):\n",
    "\n",
    "    _, axs = plt.subplots(len(testCaseFileNames), 2, figsize=(20, 20))\n",
    "    axs = axs.flatten()\n",
    "    testCount = 0\n",
    "    titleCount = 0\n",
    "    filenames = fileNames[titleCurrInd:(titleCurrInd+len(testCaseFileNames))]\n",
    "    for ind, ax in enumerate(axs):\n",
    "        if ind % 2 == 0:\n",
    "            img = cv.imread(testCaseFileNames[testCount])\n",
    "            ax.imshow(cv.cvtColor(img, cv.COLOR_BGR2RGB))\n",
    "            ax.axis('off')\n",
    "            testCount += 1\n",
    "        else:\n",
    "            filePath = '../'+filenames[titleCount].rstrip()\n",
    "            img = cv.imread(filePath)\n",
    "            ax.imshow(cv.cvtColor(img, cv.COLOR_BGR2RGB))\n",
    "            ax.axis('off')\n",
    "            titleCount += 1\n",
    "            \n",
    "    plt.show()"
   ]
  },
  {
   "cell_type": "code",
   "execution_count": 8,
   "metadata": {},
   "outputs": [],
   "source": [
    "def testFramesFvs(path, model, featExt, isSignedMagSep, isOriginal):\n",
    "    testFvs, testFileNames = featExt.extractFeaturesTitle(testCasePath, model) #extract features from test case folder\n",
    "    if isOriginal:\n",
    "        return testFvs\n",
    "    arrTestFvs = np.asarray(testFvs).squeeze() #convert list to nd.array    \n",
    "    if isSignedMagSep == True:\n",
    "        arrTestFvsCombined = np.apply_along_axis(fvsOps.signedmag, 0, arrTestFvs) #combined feature vectors\n",
    "    else:\n",
    "        arrTestFvsCombined = np.linalg.norm(arrTestFvs, axis=0)\n",
    "        \n",
    "    return arrTestFvsCombined"
   ]
  },
  {
   "cell_type": "code",
   "execution_count": 9,
   "metadata": {},
   "outputs": [],
   "source": [
    "def getArrFvsDB(path, title, isSignedMag, isOriginal):\n",
    "    if isSignedMag:\n",
    "        matFile = title+'AggregateENB7.mat'\n",
    "        matFilePath = os.path.join(path, matFile)\n",
    "        if not os.path.exists(matFilePath):\n",
    "            print(\"mat file does not exists\",matFilePath)\n",
    "        arrFvsDB = dataUtils.loadAggMatFile(matFilePath)\n",
    "    else:\n",
    "        matFileName = title + '.mat'\n",
    "        matFilePath = os.path.join(path, matFileName)\n",
    "        if not os.path.exists(matFilePath):\n",
    "            print(\"mat file does not exists\",matFilePath)\n",
    "        fvsDB, fileNamesDB = dataUtils.loadMatFile(matFilePath)\n",
    "        if isOriginal:\n",
    "            return fvsDB\n",
    "        arrFvsDB = np.asarray(fvsDB).squeeze()\n",
    "            \n",
    "    return arrFvsDB"
   ]
  },
  {
   "cell_type": "code",
   "execution_count": 10,
   "metadata": {},
   "outputs": [],
   "source": [
    "def findBestMatch(testCasePath, titlesPath, model, featExt):\n",
    "    isSignedMagSep = False\n",
    "    isOriginal = False\n",
    "\n",
    "    matchedTitle = ''\n",
    "    matchedInd = 0    \n",
    "\n",
    "    minScore = 99999 # set initial min score as high\n",
    "    maxVal = 0\n",
    "    \n",
    "    testFvs = testFramesFvs(testCasePath, model, featExt, isSignedMagSep, isOriginal)\n",
    "    \n",
    "    for title in os.listdir(titlesPath): #loading feature maps from each of the movie titles\n",
    "        titlePath = os.path.join(titlesPath, title)\n",
    "        \n",
    "        arrFvsDB = getArrFvsDB(titlePath, title, isSignedMagSep, isOriginal)\n",
    "        \n",
    "        if isSignedMagSep == True:\n",
    "            currScore, currIndDB = fvsOps.compareCombinedFvsFromFile(testFvs, arrFvsDB)\n",
    "        else:\n",
    "            currScore, currIndDB = fvsOps.compareCombinedFvs(arrFvsDB, testFvs)\n",
    "            #currScore, currIndDB = fvsOps.compareFvs(fvsDB, testfvs)\n",
    "            \n",
    "        if currScore < minScore:\n",
    "            minScore = currScore            \n",
    "            matchedTitle = title\n",
    "            matchedInd = currIndDB\n",
    "            #print(\"min score, file index and the title name\", minScore, currIndDB, title)\n",
    "                \n",
    "    #displayTestAndMatchTitleFrames(testFileNames, fileNamesDB, currIndDB)\"\"\"\n",
    "    \n",
    "    return matchedTitle, matchedInd"
   ]
  },
  {
   "cell_type": "code",
   "execution_count": null,
   "metadata": {},
   "outputs": [
    {
     "name": "stdout",
     "output_type": "stream",
     "text": [
      "Predicted title is correct, title: 5454, index: 479808, actual time: 832, time diff: 19160\n",
      "Predicted title is correct, title: 28362, index: 687744, actual time: 1194, time diff: 27462\n",
      "Predicted title is correct, title: 180, index: 214272, actual time: 372, time diff: 8556\n",
      "Predicted title is correct, title: 166, index: 976896, actual time: 1702, time diff: 39002\n",
      "Predicted title is correct, title: 231, index: 2222208, actual time: 3858, time diff: 88734\n",
      "Predicted title is wrong, predictedTitle: 789880, actualtitle: 81671\n",
      "Predicted title is wrong, predictedTitle: 790072, actualtitle: 81672\n"
     ]
    }
   ],
   "source": [
    "\"\"\"\n",
    "Use custom models\n",
    "\"\"\"\n",
    "#modelPath = '../../model/250919/weights-improvement-298-0.98.h5' # model path\n",
    "#layerName = 'dense2' #layer name\n",
    "#model = getModel(modelPath, layerName) #load model\n",
    "\n",
    "#testCaseCount = 0\n",
    "for testCase in os.listdir(testDataPath): #load each test case\n",
    "    testCasePath = testDataPath + testCase\n",
    "    \n",
    "    predictedTitle, index = findBestMatch(testCasePath, titlesPath, model, featExt)\n",
    "    aTitle, aTime = dataUtils.parseTestCaseJsonFile(testCasePath)\n",
    "    \n",
    "    at = int(aTime)\n",
    "    timeDiff = index - at\n",
    "\n",
    "    if predictedTitle == aTitle:\n",
    "        print(\"Predicted title is correct, title: {}, index: {}, actual time: {}, time diff: {}\".format(predictedTitle, index*24, aTime, timeDiff))\n",
    "    else:\n",
    "        print(\"Predicted title is wrong, predictedTitle: {}, actualtitle: {}\".format(predictedTitle, aTitle))\n",
    "    \n",
    "    #testCaseCount += 1\n",
    "    #if testCaseCount > 0:\n",
    "        #break"
   ]
  }
 ],
 "metadata": {
  "kernelspec": {
   "display_name": "Python 2",
   "language": "python",
   "name": "python2"
  },
  "language_info": {
   "codemirror_mode": {
    "name": "ipython",
    "version": 2
   },
   "file_extension": ".py",
   "mimetype": "text/x-python",
   "name": "python",
   "nbconvert_exporter": "python",
   "pygments_lexer": "ipython2",
   "version": "2.7.15rc1"
  }
 },
 "nbformat": 4,
 "nbformat_minor": 4
}
