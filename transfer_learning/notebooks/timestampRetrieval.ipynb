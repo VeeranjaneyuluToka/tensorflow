{
 "cells": [
  {
   "cell_type": "code",
   "execution_count": 1,
   "metadata": {},
   "outputs": [
    {
     "name": "stdout",
     "output_type": "stream",
     "text": [
      "setGPU: Setting GPU to: 0\n"
     ]
    },
    {
     "name": "stderr",
     "output_type": "stream",
     "text": [
      "/home/vuu/anaconda3/envs/tfpy3_exp/lib/python3.7/site-packages/tensorflow/python/framework/dtypes.py:526: FutureWarning: Passing (type, 1) or '1type' as a synonym of type is deprecated; in a future version of numpy, it will be understood as (type, (1,)) / '(1,)type'.\n",
      "  _np_qint8 = np.dtype([(\"qint8\", np.int8, 1)])\n",
      "/home/vuu/anaconda3/envs/tfpy3_exp/lib/python3.7/site-packages/tensorflow/python/framework/dtypes.py:527: FutureWarning: Passing (type, 1) or '1type' as a synonym of type is deprecated; in a future version of numpy, it will be understood as (type, (1,)) / '(1,)type'.\n",
      "  _np_quint8 = np.dtype([(\"quint8\", np.uint8, 1)])\n",
      "/home/vuu/anaconda3/envs/tfpy3_exp/lib/python3.7/site-packages/tensorflow/python/framework/dtypes.py:528: FutureWarning: Passing (type, 1) or '1type' as a synonym of type is deprecated; in a future version of numpy, it will be understood as (type, (1,)) / '(1,)type'.\n",
      "  _np_qint16 = np.dtype([(\"qint16\", np.int16, 1)])\n",
      "/home/vuu/anaconda3/envs/tfpy3_exp/lib/python3.7/site-packages/tensorflow/python/framework/dtypes.py:529: FutureWarning: Passing (type, 1) or '1type' as a synonym of type is deprecated; in a future version of numpy, it will be understood as (type, (1,)) / '(1,)type'.\n",
      "  _np_quint16 = np.dtype([(\"quint16\", np.uint16, 1)])\n",
      "/home/vuu/anaconda3/envs/tfpy3_exp/lib/python3.7/site-packages/tensorflow/python/framework/dtypes.py:530: FutureWarning: Passing (type, 1) or '1type' as a synonym of type is deprecated; in a future version of numpy, it will be understood as (type, (1,)) / '(1,)type'.\n",
      "  _np_qint32 = np.dtype([(\"qint32\", np.int32, 1)])\n",
      "/home/vuu/anaconda3/envs/tfpy3_exp/lib/python3.7/site-packages/tensorflow/python/framework/dtypes.py:535: FutureWarning: Passing (type, 1) or '1type' as a synonym of type is deprecated; in a future version of numpy, it will be understood as (type, (1,)) / '(1,)type'.\n",
      "  np_resource = np.dtype([(\"resource\", np.ubyte, 1)])\n"
     ]
    }
   ],
   "source": [
    "import os, json\n",
    "import sys\n",
    "import numpy as np\n",
    "\n",
    "sys.path.append('..')\n",
    "\n",
    "from extractEmbeddings import featureExtractor\n",
    "from utils import datasetUtils\n",
    "from extractEmbeddings import fvsOperations"
   ]
  },
  {
   "cell_type": "code",
   "execution_count": 2,
   "metadata": {},
   "outputs": [
    {
     "name": "stdout",
     "output_type": "stream",
     "text": [
      "WARNING:tensorflow:From /home/vuu/anaconda3/envs/tfpy3_exp/lib/python3.7/site-packages/tensorflow/python/ops/init_ops.py:96: calling VarianceScaling.__init__ (from tensorflow.python.ops.init_ops) with distribution=normal is deprecated and will be removed in a future version.\n",
      "Instructions for updating:\n",
      "`normal` is a deprecated alias for `truncated_normal`\n",
      "WARNING:tensorflow:From /home/vuu/anaconda3/envs/tfpy3_exp/lib/python3.7/site-packages/tensorflow/python/ops/resource_variable_ops.py:435: colocate_with (from tensorflow.python.framework.ops) is deprecated and will be removed in a future version.\n",
      "Instructions for updating:\n",
      "Colocations handled automatically by placer.\n",
      "WARNING:tensorflow:From /home/vuu/anaconda3/envs/tfpy3_exp/lib/python3.7/site-packages/tensorflow/python/keras/layers/core.py:143: calling dropout (from tensorflow.python.ops.nn_ops) with keep_prob is deprecated and will be removed in a future version.\n",
      "Instructions for updating:\n",
      "Please use `rate` instead of `keep_prob`. Rate should be set to `rate = 1 - keep_prob`.\n"
     ]
    }
   ],
   "source": [
    "featExt = featureExtractor(1000, \"ENB7\")\n",
    "model = featExt.pretrainedModel()"
   ]
  },
  {
   "cell_type": "code",
   "execution_count": 3,
   "metadata": {},
   "outputs": [],
   "source": [
    "dataUtils = datasetUtils()\n",
    "fvsOps = fvsOperations()"
   ]
  },
  {
   "cell_type": "code",
   "execution_count": 4,
   "metadata": {},
   "outputs": [],
   "source": [
    "def testFramesFvs(path, isSignedMagSep, isOriginal):\n",
    "    testFvs, testFileNames = featExt.extractFeaturesTitle(testCasePath, model) #extract features from test case folder\n",
    "    if isOriginal:\n",
    "        return testFvs\n",
    "    arrTestFvs = np.asarray(testFvs).squeeze() #convert list to nd.array    \n",
    "    if isSignedMagSep == True:\n",
    "        arrTestFvsCombined = np.apply_along_axis(fvsOps.signedmag, 0, arrTestFvs) #combined feature vectors\n",
    "    else:\n",
    "        arrTestFvsCombined = np.linalg.norm(arrTestFvs, axis=0)\n",
    "        \n",
    "    return arrTestFvsCombined"
   ]
  },
  {
   "cell_type": "code",
   "execution_count": 5,
   "metadata": {},
   "outputs": [],
   "source": [
    "def parseTestCases(path):\n",
    "    jsonFilePath = os.path.join(testCasePath, 'retrievaldata.json')\n",
    "    if not os.path.exists(jsonFilePath):\n",
    "        print(\"file does not exist\")\n",
    "    with open(jsonFilePath) as jfile:\n",
    "        data = json.load(jfile)\n",
    "    res = data['response']['Results']\n",
    "    title = res[0].split('_')[0]\n",
    "    ind = res[0].split('_')[-1]\n",
    "    \n",
    "    return title, ind"
   ]
  },
  {
   "cell_type": "code",
   "execution_count": 8,
   "metadata": {},
   "outputs": [
    {
     "name": "stdout",
     "output_type": "stream",
     "text": [
      "title:5454, distance:0.15680283308029175, predicted index:833, actual index:832\n",
      "title:28362, distance:0.12636256217956543, predicted index:1194, actual index:1194\n",
      "title:180, distance:0.3014116883277893, predicted index:374, actual index:372\n",
      "title:166, distance:0.22307610511779785, predicted index:1702, actual index:1702\n",
      "title:231, distance:0.1484907865524292, predicted index:3858, actual index:3858\n",
      "title:81671, distance:0.3992381691932678, predicted index:3335, actual index:735\n",
      "title:81672, distance:0.37823259830474854, predicted index:769, actual index:769\n",
      "title:231, distance:0.20698243379592896, predicted index:5624, actual index:5626\n",
      "title:166, distance:0.4433469772338867, predicted index:3733, actual index:3726\n",
      "title:5454, distance:0.15534847974777222, predicted index:1610, actual index:1610\n",
      "title:81675, distance:0.2922547459602356, predicted index:754, actual index:753\n",
      "title:81676, distance:0.36365997791290283, predicted index:172, actual index:172\n",
      "title:4175, distance:0.1608629822731018, predicted index:7484, actual index:7483\n",
      "title:81675, distance:0.26843196153640747, predicted index:964, actual index:963\n",
      "title:81671, distance:0.5732625722885132, predicted index:729, actual index:1058\n",
      "title:81672, distance:0.3689574599266052, predicted index:2380, actual index:2382\n",
      "title:5454, distance:0.166595458984375, predicted index:4304, actual index:4304\n",
      "title:81675, distance:0.19034218788146973, predicted index:300, actual index:300\n",
      "title:28364, distance:0.11692756414413452, predicted index:1057, actual index:1057\n",
      "title:5454, distance:0.18542569875717163, predicted index:1221, actual index:1221\n",
      "title:231, distance:0.2896765470504761, predicted index:6393, actual index:6394\n",
      "title:4175, distance:0.1574123501777649, predicted index:474, actual index:470\n",
      "title:5454, distance:0.15140682458877563, predicted index:2843, actual index:2843\n",
      "title:81677, distance:0.4989303946495056, predicted index:1887, actual index:1946\n",
      "title:166, distance:0.36877375841140747, predicted index:6208, actual index:6206\n",
      "title:183, distance:0.36752229928970337, predicted index:2786, actual index:4954\n",
      "title:4175, distance:0.21041810512542725, predicted index:8111, actual index:8111\n",
      "title:81673, distance:0.4221853017807007, predicted index:981, actual index:1026\n",
      "title:5454, distance:0.1764012575149536, predicted index:4518, actual index:4518\n",
      "title:81671, distance:0.683997631072998, predicted index:2205, actual index:1624\n",
      "title:81671, distance:0.43413156270980835, predicted index:1332, actual index:2012\n",
      "title:166, distance:0.3612779974937439, predicted index:6585, actual index:6580\n",
      "title:81677, distance:0.16746443510055542, predicted index:1152, actual index:1153\n",
      "title:81671, distance:0.844834178686142, predicted index:934, actual index:13\n",
      "title:183, distance:0.3109808564186096, predicted index:973, actual index:973\n",
      "title:231, distance:0.22298675775527954, predicted index:6640, actual index:6640\n",
      "title:180, distance:0.266560435295105, predicted index:3676, actual index:3676\n",
      "title:81671, distance:0.5663423538208008, predicted index:3087, actual index:29\n",
      "title:81677, distance:0.18081730604171753, predicted index:658, actual index:677\n",
      "title:4175, distance:0.3288859724998474, predicted index:6104, actual index:6105\n",
      "title:5454, distance:0.3131788372993469, predicted index:3278, actual index:3278\n",
      "title:28371, distance:0.2326778769493103, predicted index:447, actual index:447\n",
      "title:81675, distance:0.42027008533477783, predicted index:669, actual index:669\n",
      "title:81672, distance:0.2241005301475525, predicted index:142, actual index:141\n",
      "title:4175, distance:0.1440330147743225, predicted index:2031, actual index:2031\n",
      "title:665177, distance:0.39187097549438477, predicted index:5410, actual index:5410\n",
      "title:81673, distance:0.1847010850906372, predicted index:765, actual index:766\n",
      "title:5454, distance:0.1882140040397644, predicted index:336, actual index:337\n",
      "title:81677, distance:0.17430853843688965, predicted index:6, actual index:5\n",
      "title:81674, distance:0.25435012578964233, predicted index:2480, actual index:2480\n",
      "title:665177, distance:0.4299326539039612, predicted index:1249, actual index:5052\n",
      "title:28358, distance:0.07921445369720459, predicted index:579, actual index:579\n",
      "title:180, distance:0.3297017216682434, predicted index:4792, actual index:4792\n",
      "title:4175, distance:0.2221488356590271, predicted index:3017, actual index:3017\n",
      "title:81674, distance:0.33089733123779297, predicted index:2254, actual index:2255\n",
      "title:5454, distance:0.14958155155181885, predicted index:3734, actual index:3734\n",
      "title:166, distance:0.32229727506637573, predicted index:821, actual index:821\n",
      "title:180, distance:0.21271079778671265, predicted index:2659, actual index:2687\n",
      "title:665177, distance:0.35880571603775024, predicted index:4960, actual index:4961\n",
      "title:81671, distance:0.4784765839576721, predicted index:2585, actual index:705\n",
      "title:28374, distance:0.0414118766784668, predicted index:571, actual index:571\n",
      "title:81675, distance:0.3416024446487427, predicted index:657, actual index:692\n",
      "title:81672, distance:0.3570164442062378, predicted index:856, actual index:856\n",
      "title:180, distance:0.36904096603393555, predicted index:5872, actual index:5872\n",
      "title:81676, distance:0.1690983772277832, predicted index:1035, actual index:1035\n",
      "title:81671, distance:0.4386175274848938, predicted index:2654, actual index:468\n",
      "title:81675, distance:0.22015249729156494, predicted index:582, actual index:582\n",
      "title:231, distance:0.25054728984832764, predicted index:537, actual index:537\n",
      "title:231, distance:0.19622939825057983, predicted index:3304, actual index:3301\n",
      "title:180, distance:0.4317006468772888, predicted index:2738, actual index:2739\n",
      "title:5454, distance:0.1718234419822693, predicted index:2615, actual index:2614\n",
      "title:5454, distance:0.1545243263244629, predicted index:75, actual index:75\n",
      "title:81675, distance:0.40524929761886597, predicted index:1522, actual index:1503\n",
      "title:81675, distance:0.19549572467803955, predicted index:1907, actual index:1907\n",
      "title:231, distance:0.18882375955581665, predicted index:2325, actual index:2323\n",
      "title:5454, distance:0.12844276428222656, predicted index:1244, actual index:1244\n",
      "title:28367, distance:0.1325676441192627, predicted index:596, actual index:596\n",
      "title:5454, distance:0.18117529153823853, predicted index:1871, actual index:1870\n"
     ]
    }
   ],
   "source": [
    "testCasesDataPath = '../../../data/movie_titles/testUncompressed/'\n",
    "titlesPath = '../../../data/movie_titles/all_titles_uncompressed/'\n",
    "isSignedMagSep = True\n",
    "isOriginal = False\n",
    "\n",
    "for testCase in os.listdir(testCasesDataPath):\n",
    "    testCasePath = os.path.join(testCasesDataPath, testCase)\n",
    "    arrTestFvs = testFramesFvs(testCasePath, isSignedMagSep, isOriginal)\n",
    "    \n",
    "    titleName, aInd = parseTestCases(testCasePath)\n",
    "    titlePath = os.path.join(titlesPath, titleName)\n",
    "    matFile = titleName+'AggregateENB7.mat'\n",
    "    matFilePath = os.path.join(titlePath, matFile)\n",
    "    arrFvsDB = dataUtils.loadAggMatFile(matFilePath)\n",
    "    \n",
    "    dist, ind = fvsOps.compareCombinedFvsFromFile(arrTestFvs, arrFvsDB)\n",
    "    print(\"title:{}, distance:{}, predicted index:{}, actual index:{}\".format(titleName, dist, ind, aInd))"
   ]
  }
 ],
 "metadata": {
  "kernelspec": {
   "display_name": "Python 2",
   "language": "python",
   "name": "python2"
  },
  "language_info": {
   "codemirror_mode": {
    "name": "ipython",
    "version": 2
   },
   "file_extension": ".py",
   "mimetype": "text/x-python",
   "name": "python",
   "nbconvert_exporter": "python",
   "pygments_lexer": "ipython2",
   "version": "2.7.15rc1"
  }
 },
 "nbformat": 4,
 "nbformat_minor": 4
}
